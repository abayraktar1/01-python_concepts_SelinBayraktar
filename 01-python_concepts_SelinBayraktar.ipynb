{
 "cells": [
  {
   "cell_type": "markdown",
   "metadata": {},
   "source": [
    "### Python Programming Concepts"
   ]
  },
  {
   "cell_type": "markdown",
   "metadata": {},
   "source": [
    "#### 1. Create a variable to store the value 500 for sales"
   ]
  },
  {
   "cell_type": "code",
   "execution_count": 1,
   "metadata": {},
   "outputs": [
    {
     "data": {
      "text/plain": [
       "500"
      ]
     },
     "execution_count": 1,
     "metadata": {},
     "output_type": "execute_result"
    }
   ],
   "source": [
    "sales = 500\n",
    "sales"
   ]
  },
  {
   "cell_type": "markdown",
   "metadata": {},
   "source": [
    "#### 2. Create a variable to store several values:  \n",
    "* sales: 500, 475, 625\n",
    "* integers 1 - 9 "
   ]
  },
  {
   "cell_type": "code",
   "execution_count": 2,
   "metadata": {},
   "outputs": [
    {
     "name": "stdout",
     "output_type": "stream",
     "text": [
      "500\n",
      "475\n",
      "625\n"
     ]
    },
    {
     "data": {
      "text/plain": [
       "[1, 2, 3, 4, 5, 6, 7, 8, 9]"
      ]
     },
     "execution_count": 2,
     "metadata": {},
     "output_type": "execute_result"
    }
   ],
   "source": [
    "sales = [500, 475, 625]\n",
    "for sale in sales:\n",
    "    print(sale)\n",
    "    \n",
    "integers = list(range(1,10))\n",
    "integers"
   ]
  },
  {
   "cell_type": "markdown",
   "metadata": {},
   "source": [
    "#### 3. Create a variable to store the names and email addresses for a number of customers\n",
    "* John, john@some.com; Ann, ann@some.com"
   ]
  },
  {
   "cell_type": "code",
   "execution_count": 3,
   "metadata": {},
   "outputs": [
    {
     "data": {
      "text/plain": [
       "dict_values(['John', 'john@some.com'])"
      ]
     },
     "execution_count": 3,
     "metadata": {},
     "output_type": "execute_result"
    }
   ],
   "source": [
    "customers = [{'name':'John', 'email':'john@some.com'}, {'name':'Ann', 'email':'ann@some.com'}]\n",
    "customers[0].values()"
   ]
  },
  {
   "cell_type": "markdown",
   "metadata": {},
   "source": [
    "#### 4. Use Python to generate a random value based on each of following:\n",
    "1. between 0 and 1\n",
    "2. the standard normal distribution (rounded to two decimal places)\n",
    "3. a value between 1 and 10\n",
    "4. either H or T"
   ]
  },
  {
   "cell_type": "code",
   "execution_count": 4,
   "metadata": {},
   "outputs": [],
   "source": [
    "import random"
   ]
  },
  {
   "cell_type": "code",
   "execution_count": 5,
   "metadata": {},
   "outputs": [
    {
     "data": {
      "text/plain": [
       "0.9906078636187047"
      ]
     },
     "execution_count": 5,
     "metadata": {},
     "output_type": "execute_result"
    }
   ],
   "source": [
    "between_0_and_1 = random.random()\n",
    "between_0_and_1"
   ]
  },
  {
   "cell_type": "code",
   "execution_count": 6,
   "metadata": {},
   "outputs": [
    {
     "data": {
      "text/plain": [
       "0.7956818550078945"
      ]
     },
     "execution_count": 6,
     "metadata": {},
     "output_type": "execute_result"
    }
   ],
   "source": [
    "normal_distribution = random.gauss(0, 1)\n",
    "normal_distribution"
   ]
  },
  {
   "cell_type": "code",
   "execution_count": 7,
   "metadata": {},
   "outputs": [
    {
     "data": {
      "text/plain": [
       "5.534054922806233"
      ]
     },
     "execution_count": 7,
     "metadata": {},
     "output_type": "execute_result"
    }
   ],
   "source": [
    "between_1_and_10 = random.uniform(1, 10)\n",
    "between_1_and_10"
   ]
  },
  {
   "cell_type": "code",
   "execution_count": 8,
   "metadata": {},
   "outputs": [
    {
     "data": {
      "text/plain": [
       "'H'"
      ]
     },
     "execution_count": 8,
     "metadata": {},
     "output_type": "execute_result"
    }
   ],
   "source": [
    "random_h_or_t = random.choice(['H', 'T'])\n",
    "random_h_or_t"
   ]
  },
  {
   "cell_type": "code",
   "execution_count": 9,
   "metadata": {},
   "outputs": [
    {
     "data": {
      "text/plain": [
       "['', 'H', 'H', '', 'H', 'H', '']"
      ]
     },
     "execution_count": 9,
     "metadata": {},
     "output_type": "execute_result"
    }
   ],
   "source": [
    "flips = ''\n",
    "for flip in range(10):\n",
    "    flips += random.choice(['H', 'T'])\n",
    "flips\n",
    "flips.split('T')"
   ]
  },
  {
   "cell_type": "markdown",
   "metadata": {},
   "source": [
    "#### 5. Use Python to determine your current working directory"
   ]
  },
  {
   "cell_type": "code",
   "execution_count": 11,
   "metadata": {},
   "outputs": [
    {
     "name": "stdout",
     "output_type": "stream",
     "text": [
      "Current Working Directory: C:\\Users\\bayra\\Downloads\n"
     ]
    }
   ],
   "source": [
    "import os\n",
    "current_directory = os.getcwd()\n",
    "print(\"Current Working Directory:\", current_directory)"
   ]
  },
  {
   "cell_type": "markdown",
   "metadata": {},
   "source": [
    "#### 6. Use Python to determine how many days until New Year's Day"
   ]
  },
  {
   "cell_type": "code",
   "execution_count": 18,
   "metadata": {},
   "outputs": [
    {
     "name": "stdout",
     "output_type": "stream",
     "text": [
      "Days until New Year's Day: 343 days\n"
     ]
    }
   ],
   "source": [
    "import datetime as dt\n",
    "\n",
    "# Get the current date\n",
    "today = dt.date.today()\n",
    "\n",
    "days_to_ny = dt.date(2025, 1, 1)\n",
    "\n",
    "days_to_ny - today\n",
    "\n",
    "# ---- alternative ------\n",
    "from datetime import datetime, timedelta\n",
    "#datetime gives u a date as a tupple\n",
    "\n",
    "# Get the current date\n",
    "current_date = datetime.now()\n",
    "\n",
    "# Define the target date (New Year's Day)\n",
    "new_years_day = datetime(current_date.year + 1, 1, 1)\n",
    "\n",
    "# Calculate the difference in days\n",
    "days_until_new_year = (new_years_day - current_date).days\n",
    "\n",
    "print(f\"Days until New Year's Day: {days_until_new_year} days\")"
   ]
  },
  {
   "cell_type": "markdown",
   "metadata": {},
   "source": [
    "#### 7. Write a short program that displays the future value of 1,000 earning 5%  at the end of each year for the next 5 years"
   ]
  },
  {
   "cell_type": "code",
   "execution_count": 19,
   "metadata": {},
   "outputs": [
    {
     "name": "stdout",
     "output_type": "stream",
     "text": [
      "Year                Value\n",
      "-------------------------\n",
      "1              1,050.00\n",
      "2              1,102.50\n",
      "3              1,157.63\n",
      "4              1,215.51\n",
      "5              1,276.28\n"
     ]
    }
   ],
   "source": [
    "pv = 1000\n",
    "rate = 0.05\n",
    "years = 5\n",
    "\n",
    "print(f\"{'Year':<15}{'Value':>10}\")\n",
    "print(\"-\" * 25)\n",
    "for year in range(1, years + 1):\n",
    "    print(f\"{year:<15}{pv * (1 + rate) ** year:>,.2f}\")"
   ]
  },
  {
   "cell_type": "markdown",
   "metadata": {},
   "source": [
    "#### 8. Write a short program that prompts a user to enter a stock symbol and press enter. Add each symbol entered to a variable. The program should run until the user presses the enter key without entering anything (empty string) "
   ]
  },
  {
   "cell_type": "code",
   "execution_count": 20,
   "metadata": {},
   "outputs": [
    {
     "name": "stdout",
     "output_type": "stream",
     "text": [
      "Enter stock symbol or press enter to quit:/\n",
      "Enter stock symbol or press enter to quit:+\n",
      "Enter stock symbol or press enter to quit:%\n",
      "Enter stock symbol or press enter to quit:*\n",
      "Enter stock symbol or press enter to quit:?\n",
      "Enter stock symbol or press enter to quit: \n",
      "Enter stock symbol or press enter to quit:\n",
      "['/', '+', '%', '*', '?', ' ']\n"
     ]
    }
   ],
   "source": [
    "stocks = []\n",
    "while True:\n",
    "    symbol = input('Enter stock symbol or press enter to quit:')\n",
    "    if symbol == '':\n",
    "        break\n",
    "    stocks.append(symbol)\n",
    "print(stocks)"
   ]
  },
  {
   "cell_type": "markdown",
   "metadata": {},
   "source": [
    "#### 9. Write the code necessary to calculate the sum of the square differences of a group of values : \n",
    "58, 32, 37, 41, 36, 36, 54, 37, 25, 53\n",
    "##### $\\Sigma $(${x}$ - $\\bar{x}$)$^2$"
   ]
  },
  {
   "cell_type": "markdown",
   "metadata": {},
   "source": []
  },
  {
   "cell_type": "code",
   "execution_count": 22,
   "metadata": {},
   "outputs": [
    {
     "name": "stdout",
     "output_type": "stream",
     "text": [
      "1020.9000000000001\n"
     ]
    }
   ],
   "source": [
    "numbers = [58, 32, 37, 41, 36, 36, 54, 37, 25, 53]\n",
    "\n",
    "average = sum(numbers)/len(numbers)\n",
    "\n",
    "sum_squared_diff = sum((x - average) ** 2 for x in numbers)\n",
    "\n",
    "print(sum_squared_diff)"
   ]
  },
  {
   "cell_type": "markdown",
   "metadata": {},
   "source": [
    "#### 10. Opening, reading and writing files"
   ]
  },
  {
   "cell_type": "code",
   "execution_count": 23,
   "metadata": {},
   "outputs": [
    {
     "ename": "FileNotFoundError",
     "evalue": "[Errno 2] No such file or directory: 'filename.txt'",
     "output_type": "error",
     "traceback": [
      "\u001b[1;31m---------------------------------------------------------------------------\u001b[0m",
      "\u001b[1;31mFileNotFoundError\u001b[0m                         Traceback (most recent call last)",
      "\u001b[1;32m<ipython-input-23-c9bb43cde4a9>\u001b[0m in \u001b[0;36m<module>\u001b[1;34m\u001b[0m\n\u001b[0;32m      1\u001b[0m \u001b[1;31m# Opening a file for reading\u001b[0m\u001b[1;33m\u001b[0m\u001b[1;33m\u001b[0m\u001b[1;33m\u001b[0m\u001b[0m\n\u001b[1;32m----> 2\u001b[1;33m \u001b[1;32mwith\u001b[0m \u001b[0mopen\u001b[0m\u001b[1;33m(\u001b[0m\u001b[1;34m'filename.txt'\u001b[0m\u001b[1;33m,\u001b[0m \u001b[1;34m'r'\u001b[0m\u001b[1;33m)\u001b[0m \u001b[1;32mas\u001b[0m \u001b[0mfile\u001b[0m\u001b[1;33m:\u001b[0m\u001b[1;33m\u001b[0m\u001b[1;33m\u001b[0m\u001b[0m\n\u001b[0m\u001b[0;32m      3\u001b[0m     \u001b[0mcontent\u001b[0m \u001b[1;33m=\u001b[0m \u001b[0mfile\u001b[0m\u001b[1;33m.\u001b[0m\u001b[0mread\u001b[0m\u001b[1;33m(\u001b[0m\u001b[1;33m)\u001b[0m\u001b[1;33m\u001b[0m\u001b[1;33m\u001b[0m\u001b[0m\n\u001b[0;32m      4\u001b[0m     \u001b[1;31m# Process or print the content\u001b[0m\u001b[1;33m\u001b[0m\u001b[1;33m\u001b[0m\u001b[1;33m\u001b[0m\u001b[0m\n\u001b[0;32m      5\u001b[0m \u001b[1;33m\u001b[0m\u001b[0m\n",
      "\u001b[1;31mFileNotFoundError\u001b[0m: [Errno 2] No such file or directory: 'filename.txt'"
     ]
    }
   ],
   "source": [
    "# Opening a file for reading\n",
    "with open('filename.txt', 'r') as file:\n",
    "    content = file.read()\n",
    "    # Process or print the content\n",
    "\n",
    "# Opening a file for writing\n",
    "with open('newfile.txt', 'w') as file:\n",
    "    file.write('Hello, this is a new file!\\n')\n",
    "\n",
    "# Opening a file for appending\n",
    "with open('existingfile.txt', 'a') as file:\n",
    "    file.write('Appending new content!\\n')"
   ]
  },
  {
   "cell_type": "markdown",
   "metadata": {},
   "source": [
    "#### 11. Create a function the will simulate rolling two die and return the value of each and and the sum "
   ]
  },
  {
   "cell_type": "code",
   "execution_count": 25,
   "metadata": {},
   "outputs": [
    {
     "name": "stdout",
     "output_type": "stream",
     "text": [
      "Die 1: 3, Die 2: 6, Sum: 9\n"
     ]
    }
   ],
   "source": [
    "import random\n",
    "\n",
    "def roll_two_dice():\n",
    "    # Simulate rolling two dice\n",
    "    die1 = random.randint(1, 6)\n",
    "    die2 = random.randint(1, 6)\n",
    "\n",
    "    # Calculate the sum of the two dice\n",
    "    total_sum = die1 + die2\n",
    "\n",
    "    # Return the values and sum\n",
    "    return die1, die2, total_sum\n",
    "\n",
    "# Example usage:\n",
    "result = roll_two_dice()\n",
    "print(f\"Die 1: {result[0]}, Die 2: {result[1]}, Sum: {result[2]}\")"
   ]
  },
  {
   "cell_type": "markdown",
   "metadata": {},
   "source": [
    "#### 12. Write the code needed to evaluate whether a value in a group of values is negative or postive and prints an approriate message, i.e. postive, negative \n",
    "-1.59, 2.36, 1.69, 1.13, -0.91, 1.48, -0.34, 1.31, -0.74, 0.2"
   ]
  },
  {
   "cell_type": "code",
   "execution_count": 27,
   "metadata": {},
   "outputs": [
    {
     "name": "stdout",
     "output_type": "stream",
     "text": [
      "Enter a list of values separated by commas: -1.59, 2.36, 1.69, 1.13, -0.91, 1.48, -0.34, 1.31, -0.74, 0.2\n",
      "-1.59 is negative.\n",
      "2.36 is positive.\n",
      "1.69 is positive.\n",
      "1.13 is positive.\n",
      "-0.91 is negative.\n",
      "1.48 is positive.\n",
      "-0.34 is negative.\n",
      "1.31 is positive.\n",
      "-0.74 is negative.\n",
      "0.2 is positive.\n"
     ]
    }
   ],
   "source": [
    "def check_positive_negative(values):\n",
    "    for value in values:\n",
    "        if value > 0:\n",
    "            print(f\"{value} is positive.\")\n",
    "        elif value < 0:\n",
    "            print(f\"{value} is negative.\")\n",
    "        else:\n",
    "            print(f\"{value} is zero.\")\n",
    "\n",
    "# Example usage:\n",
    "user_input = input(\"Enter a list of values separated by commas: \")\n",
    "try:\n",
    "    values = [float(val) for val in user_input.split(\",\")]\n",
    "    check_positive_negative(values)\n",
    "except ValueError:\n",
    "    print(\"Invalid input. Please enter numeric values separated by spaces.\")"
   ]
  },
  {
   "cell_type": "markdown",
   "metadata": {},
   "source": [
    "#### 14.  Complete the following:\n",
    "1. Write a program that generates 500 random integers from 1 to n, for example, the first integer will be 1 the second will be 1 or 2, the fifth between 1 and 5, and so on.\n",
    "2. The program should write each integer to a file \n",
    "3. Once all integers are written close the file\n",
    "\n",
    "##### Part 2\n",
    "1. Open and read the file into a list\n",
    "2. Create a line plot of the data"
   ]
  },
  {
   "cell_type": "code",
   "execution_count": 30,
   "metadata": {},
   "outputs": [
    {
     "name": "stdout",
     "output_type": "stream",
     "text": [
      "Random integers have been written to 'random_integers.txt'.\n"
     ]
    }
   ],
   "source": [
    "import random\n",
    "\n",
    "def generate_and_write_to_file(n, filename):\n",
    "    with open(filename, 'w') as file:\n",
    "        for i in range(1, 501):  # Generating 500 random integers\n",
    "            random_int = random.randint(1, min(i, n))\n",
    "            file.write(f\"{random_int}\\n\")\n",
    "\n",
    "    print(f\"Random integers have been written to '{filename}'.\")\n",
    "\n",
    "# Example usage with n = 5 and filename = \"random_integers.txt\"\n",
    "n_value = 5\n",
    "output_filename = \"random_integers.txt\"\n",
    "generate_and_write_to_file(n_value, output_filename)\n"
   ]
  },
  {
   "cell_type": "code",
   "execution_count": 31,
   "metadata": {},
   "outputs": [
    {
     "name": "stdout",
     "output_type": "stream",
     "text": [
      "List of Generated Integers: [1, 1, 1, 2, 4, 2, 2, 2, 2, 1, 3, 5, 3, 5, 2, 4, 1, 3, 3, 5, 2, 3, 4, 4, 3, 5, 1, 1, 3, 1, 3, 4, 1, 3, 1, 1, 3, 3, 2, 2, 1, 2, 3, 1, 2, 2, 5, 1, 2, 3, 1, 4, 5, 4, 3, 3, 5, 2, 1, 3, 1, 3, 3, 1, 5, 3, 2, 3, 5, 1, 5, 1, 2, 5, 1, 2, 2, 5, 3, 2, 3, 1, 4, 5, 4, 5, 5, 1, 4, 3, 5, 4, 5, 5, 5, 4, 4, 3, 2, 2, 5, 3, 4, 3, 3, 5, 4, 3, 5, 5, 2, 5, 5, 4, 2, 1, 1, 3, 4, 3, 3, 1, 3, 3, 5, 3, 4, 2, 5, 2, 3, 2, 1, 2, 4, 3, 1, 1, 1, 5, 2, 3, 4, 5, 3, 3, 3, 4, 5, 3, 4, 2, 1, 5, 3, 1, 4, 4, 5, 1, 4, 3, 1, 3, 2, 2, 5, 5, 2, 3, 3, 5, 4, 5, 3, 2, 4, 5, 4, 5, 5, 5, 4, 1, 3, 3, 4, 3, 5, 3, 2, 2, 2, 2, 2, 2, 1, 4, 1, 2, 3, 3, 1, 3, 2, 4, 3, 3, 5, 1, 1, 3, 2, 3, 3, 4, 3, 5, 3, 1, 1, 4, 2, 1, 5, 3, 4, 4, 1, 5, 4, 5, 5, 3, 1, 4, 3, 1, 2, 2, 5, 5, 5, 2, 4, 1, 1, 1, 4, 2, 4, 2, 1, 4, 2, 3, 1, 1, 5, 4, 4, 4, 2, 1, 4, 2, 4, 2, 5, 3, 1, 5, 1, 2, 5, 2, 4, 4, 4, 2, 2, 2, 2, 2, 5, 1, 2, 2, 3, 1, 1, 1, 4, 4, 5, 4, 4, 1, 5, 3, 4, 1, 1, 3, 1, 3, 1, 5, 3, 3, 3, 3, 4, 1, 2, 2, 5, 2, 3, 2, 5, 2, 4, 2, 5, 4, 3, 1, 4, 1, 4, 2, 2, 5, 5, 1, 2, 1, 1, 4, 5, 1, 2, 1, 3, 4, 2, 5, 1, 2, 4, 3, 1, 5, 3, 1, 2, 5, 5, 4, 4, 1, 2, 3, 5, 4, 2, 5, 5, 3, 3, 1, 2, 2, 3, 2, 5, 3, 2, 1, 3, 1, 3, 1, 2, 4, 4, 1, 2, 2, 4, 4, 1, 5, 5, 4, 5, 5, 2, 2, 2, 1, 1, 1, 5, 2, 1, 1, 3, 4, 5, 1, 2, 1, 2, 2, 3, 5, 5, 4, 4, 4, 2, 2, 1, 4, 3, 1, 1, 1, 5, 1, 1, 2, 2, 2, 2, 4, 1, 3, 2, 4, 5, 2, 3, 1, 3, 2, 5, 2, 4, 1, 5, 4, 4, 3, 1, 2, 1, 1, 4, 1, 2, 4, 4, 5, 4, 4, 1, 5, 1, 1, 4, 1, 3, 1, 4, 4, 3, 3, 3, 3, 5, 2, 1, 2, 1, 3, 5, 1, 3, 2, 2, 4, 1, 1, 3, 4, 5, 2]\n"
     ]
    }
   ],
   "source": [
    "def read_file_to_list(filename):\n",
    "    with open(filename, 'r') as file:\n",
    "        integer_list = [int(line.strip()) for line in file.readlines()]\n",
    "    return integer_list\n",
    "\n",
    "# Example usage with filename = \"random_integers.txt\"\n",
    "output_filename = \"random_integers.txt\"\n",
    "generated_integers = read_file_to_list(output_filename)\n",
    "\n",
    "# Print the list of generated integers\n",
    "print(\"List of Generated Integers:\", generated_integers)"
   ]
  },
  {
   "cell_type": "code",
   "execution_count": 32,
   "metadata": {},
   "outputs": [
    {
     "name": "stdout",
     "output_type": "stream",
     "text": [
      "Requirement already satisfied: matplotlib in c:\\users\\bayra\\anaconda3\\lib\\site-packages (3.3.2)\n",
      "Requirement already satisfied: kiwisolver>=1.0.1 in c:\\users\\bayra\\anaconda3\\lib\\site-packages (from matplotlib) (1.3.0)\n",
      "Requirement already satisfied: numpy>=1.15 in c:\\users\\bayra\\anaconda3\\lib\\site-packages (from matplotlib) (1.17.0)\n",
      "Requirement already satisfied: certifi>=2020.06.20 in c:\\users\\bayra\\anaconda3\\lib\\site-packages (from matplotlib) (2020.6.20)\n",
      "Requirement already satisfied: pyparsing!=2.0.4,!=2.1.2,!=2.1.6,>=2.0.3 in c:\\users\\bayra\\anaconda3\\lib\\site-packages (from matplotlib) (2.4.7)\n",
      "Requirement already satisfied: pillow>=6.2.0 in c:\\users\\bayra\\anaconda3\\lib\\site-packages (from matplotlib) (8.0.1)\n",
      "Requirement already satisfied: python-dateutil>=2.1 in c:\\users\\bayra\\anaconda3\\lib\\site-packages (from matplotlib) (2.8.1)\n",
      "Requirement already satisfied: cycler>=0.10 in c:\\users\\bayra\\anaconda3\\lib\\site-packages (from matplotlib) (0.10.0)\n",
      "Requirement already satisfied: six>=1.5 in c:\\users\\bayra\\anaconda3\\lib\\site-packages (from python-dateutil>=2.1->matplotlib) (1.15.0)\n",
      "Note: you may need to restart the kernel to use updated packages.\n"
     ]
    }
   ],
   "source": [
    "pip install matplotlib"
   ]
  },
  {
   "cell_type": "code",
   "execution_count": 35,
   "metadata": {},
   "outputs": [
    {
     "data": {
      "image/png": "[encoded data removed]",
      "text/plain": [
       "<Figure size 432x288 with 1 Axes>"
      ]
     },
     "metadata": {
      "needs_background": "light"
     },
     "output_type": "display_data"
    }
   ],
   "source": [
    "import matplotlib.pyplot as plt\n",
    "\n",
    "# Example usage with filename = \"random_integers.txt\"\n",
    "output_filename = \"random_integers.txt\"\n",
    "generated_integers = read_file_to_list(output_filename)\n",
    "\n",
    "# Create a histogram\n",
    "plt.hist(generated_integers, bins=range(1, max(generated_integers) + 2), edgecolor='black')\n",
    "plt.title('Histogram of Generated Integers')\n",
    "plt.xlabel('Generated Integer')\n",
    "plt.ylabel('Frequency')\n",
    "plt.grid(axis='y')\n",
    "plt.show()\n"
   ]
  }
 ],
 "metadata": {
  "kernelspec": {
   "display_name": "Python 3",
   "language": "python",
   "name": "python3"
  },
  "language_info": {
   "codemirror_mode": {
    "name": "ipython",
    "version": 3
   },
   "file_extension": ".py",
   "mimetype": "text/x-python",
   "name": "python",
   "nbconvert_exporter": "python",
   "pygments_lexer": "ipython3",
   "version": "3.7.9"
  }
 },
 "nbformat": 4,
 "nbformat_minor": 5
}
